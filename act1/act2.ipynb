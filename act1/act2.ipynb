{
 "cells": [
  {
   "cell_type": "code",
   "execution_count": 39,
   "metadata": {},
   "outputs": [
    {
     "name": "stdout",
     "output_type": "stream",
     "text": [
      "hour mean= 4.03333333333\n",
      "hour min= 1\n",
      "hour max= 14\n"
     ]
    },
    {
     "data": {
      "image/png": "[encoded data removed]",
      "text/plain": [
       "<matplotlib.figure.Figure at 0x1df382e6c88>"
      ]
     },
     "metadata": {},
     "output_type": "display_data"
    },
    {
     "name": "stdout",
     "output_type": "stream",
     "text": [
      "hour mean cleaned= 3.22222222222\n",
      "            tvhours  obedience  attitude\n",
      "tvhours    1.000000   -0.17882 -0.084275\n",
      "obedience -0.178820    1.00000  0.675140\n",
      "attitude  -0.084275    0.67514  1.000000\n",
      "attitude freqs Counter({2: 10, 3: 6, 4: 6, 5: 2, 7: 2, 1: 1})\n"
     ]
    }
   ],
   "source": [
    "import pandas as pd\n",
    "import numpy as np\n",
    "import matplotlib.pyplot as plt\n",
    "df=pd.read_csv(\"tv.txt\", sep=\" \")\n",
    "#1) mean and range\n",
    "mean=df.tvhours.mean()\n",
    "print(\"hour mean=\",mean)\n",
    "\n",
    "hour_min=df.tvhours.min()\n",
    "print(\"hour min=\",hour_min)\n",
    "\n",
    "hour_max=df.tvhours.max()\n",
    "print(\"hour max=\",hour_max)\n",
    "\n",
    "#2) yes-records with 14, 10, 10, which affects\n",
    "plt.boxplot(df.tvhours)\n",
    "plt.show()  \n",
    "\n",
    "#3)\n",
    "dfclean=df[df.tvhours<10]\n",
    "mean_clean=dfclean.tvhours.mean()\n",
    "print(\"hour mean cleaned=\",mean_clean)\n",
    "#4)\n",
    "# \ttvhours \tobedience \tattitude\n",
    "#tvhours \t1.000000 \t-0.17882 \t-0.084275\n",
    "corr=dfclean.corr(method='pearson')\n",
    "print(corr)\n",
    "#5)obedience has low negative correlation(attitude is lower), which is statistically not significant\n",
    "#6)  What fun damental problem does this data present for the hypothesis?\n",
    "#  ----that attitude not means agression? presentation of children, who watch tv more is much more lower, than children,\n",
    "#  who watch lesser\n",
    "#What sampling changes could be made to better test the hypothesis that\"children who watch more TV are more aggressive\"?\n",
    "# ----collect data about agression\n",
    "#     get bigger dataset, which will better cover interested area(children,who watch tv more)\n",
    "from collections import Counter\n",
    "freqs = Counter(dfclean.tvhours)\n",
    "print(\"attitude freqs\",freqs)\n"
   ]
  },
  {
   "cell_type": "code",
   "execution_count": null,
   "metadata": {
    "collapsed": true
   },
   "outputs": [],
   "source": []
  }
 ],
 "metadata": {
  "kernelspec": {
   "display_name": "Python 3",
   "language": "python",
   "name": "python3"
  },
  "language_info": {
   "codemirror_mode": {
    "name": "ipython",
    "version": 3
   },
   "file_extension": ".py",
   "mimetype": "text/x-python",
   "name": "python",
   "nbconvert_exporter": "python",
   "pygments_lexer": "ipython3",
   "version": "3.5.2"
  }
 },
 "nbformat": 4,
 "nbformat_minor": 1
}
