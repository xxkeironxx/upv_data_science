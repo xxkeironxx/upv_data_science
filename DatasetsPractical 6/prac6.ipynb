{
 "cells": [
  {
   "cell_type": "code",
   "execution_count": 9,
   "metadata": {},
   "outputs": [
    {
     "name": "stdout",
     "output_type": "stream",
     "text": [
      "# weights:  116\n",
      "initial  value 57851668794104.750000 \n",
      "iter  10 value 18083209237135.824219\n",
      "iter  20 value 16098102568122.388672\n",
      "iter  30 value 16059370540398.316406\n",
      "iter  40 value 12688690904710.066406\n",
      "iter  50 value 11804211717922.572266\n",
      "iter  60 value 11401977692893.804687\n",
      "final  value 11381288883454.919922 \n",
      "converged\n",
      "[1] \"rmse\"\n"
     ]
    },
    {
     "data": {
      "text/html": [
       "109431.758078768"
      ],
      "text/latex": [
       "109431.758078768"
      ],
      "text/markdown": [
       "109431.758078768"
      ],
      "text/plain": [
       "[1] 109431.8"
      ]
     },
     "metadata": {},
     "output_type": "display_data"
    },
    {
     "data": {
      "text/html": [
       "97113.0050810259"
      ],
      "text/latex": [
       "97113.0050810259"
      ],
      "text/markdown": [
       "97113.0050810259"
      ],
      "text/plain": [
       "[1] 97113.01"
      ]
     },
     "metadata": {},
     "output_type": "display_data"
    },
    {
     "data": {
      "text/html": [
       "86680.7489589391"
      ],
      "text/latex": [
       "86680.7489589391"
      ],
      "text/markdown": [
       "86680.7489589391"
      ],
      "text/plain": [
       "[1] 86680.75"
      ]
     },
     "metadata": {},
     "output_type": "display_data"
    },
    {
     "data": {
      "text/html": [
       "158757.59283449"
      ],
      "text/latex": [
       "158757.59283449"
      ],
      "text/markdown": [
       "158757.59283449"
      ],
      "text/plain": [
       "[1] 158757.6"
      ]
     },
     "metadata": {},
     "output_type": "display_data"
    },
    {
     "data": {
      "text/html": [
       "138378.427205202"
      ],
      "text/latex": [
       "138378.427205202"
      ],
      "text/markdown": [
       "138378.427205202"
      ],
      "text/plain": [
       "[1] 138378.4"
      ]
     },
     "metadata": {},
     "output_type": "display_data"
    },
    {
     "name": "stdout",
     "output_type": "stream",
     "text": [
      "[1] \"mae\"\n"
     ]
    },
    {
     "data": {
      "text/html": [
       "70873.1619120883"
      ],
      "text/latex": [
       "70873.1619120883"
      ],
      "text/markdown": [
       "70873.1619120883"
      ],
      "text/plain": [
       "[1] 70873.16"
      ]
     },
     "metadata": {},
     "output_type": "display_data"
    },
    {
     "data": {
      "text/html": [
       "57815.9294371151"
      ],
      "text/latex": [
       "57815.9294371151"
      ],
      "text/markdown": [
       "57815.9294371151"
      ],
      "text/plain": [
       "[1] 57815.93"
      ]
     },
     "metadata": {},
     "output_type": "display_data"
    },
    {
     "data": {
      "text/html": [
       "111372.944848328"
      ],
      "text/latex": [
       "111372.944848328"
      ],
      "text/markdown": [
       "111372.944848328"
      ],
      "text/plain": [
       "[1] 111372.9"
      ]
     },
     "metadata": {},
     "output_type": "display_data"
    },
    {
     "data": {
      "text/html": [
       "97288.3567793103"
      ],
      "text/latex": [
       "97288.3567793103"
      ],
      "text/markdown": [
       "97288.3567793103"
      ],
      "text/plain": [
       "[1] 97288.36"
      ]
     },
     "metadata": {},
     "output_type": "display_data"
    }
   ],
   "source": [
    "library(\"lattice\")\n",
    "#library(\"carret\")\n",
    "library(\"rpart\")\n",
    "library(\"nnet\")\n",
    "library(\"Metrics\")\n",
    "library(\"MASS\")\n",
    "data<-read.csv(\"HousePricesData-Address-City-Features_fromZillow.csv\",sep = \";\")\n",
    "\n",
    "attach(data)\n",
    "forplot<-make.groups(bath=data.frame(value=bath,zipcode,city,state,price),\n",
    "year=data.frame(value=year,zipcode,city,state,price),\n",
    "bed=data.frame(value=bed,zipcode,city,state,price),\n",
    "rooms=data.frame(value=rooms,zipcode,city,state,price),\n",
    "SqFt=data.frame(value=SqFt,zipcode,city,state,price))\n",
    "detach(data)\n",
    "\n",
    "#xyplot(price~value|which, data=forplot,scales=list(relation=\"free\"))\n",
    "data$city=as.numeric(data$city)\n",
    "sub <- sample(nrow(data), floor(nrow(data) * 0.75))\n",
    "training <- data[sub, ]\n",
    "testing <- data[-sub, ]\n",
    "\n",
    "lm1<-lm(price ~ zipcode+year+bath+bed+rooms+SqFt+city, training)\n",
    "cart1<-rpart(price ~ zipcode+year+bath+bed+rooms+SqFt+city,data=training,method=\"anova\")\n",
    "cart2<-rpart(price ~ zipcode+year+bath+bed+rooms+SqFt+city,data=training,method = \"anova\", cp = 0.0001)\n",
    "nnet1<-nnet(price ~ zipcode+year+bath+bed+rooms+SqFt+city,data=training, skip=TRUE, linout=TRUE, size=12)\n",
    "\n",
    "\n",
    "library(randomForest)\n",
    "rf <- randomForest(price ~ zipcode+year+bath+bed+rooms+SqFt+city,data=training)\n",
    "predict_rf <- predict(rf, testing)\n",
    "\n",
    "\n",
    "\n",
    "#summary(lm1)\n",
    "#summary(cart1)\n",
    "#summary(nnet1)\n",
    "\n",
    "#plot(cart1, main=\"Classification Tree for dataset\")\n",
    "#text(cart1,use.n=TRUE, all=TRUE, cex=.8)\n",
    "#plotcp(cart1)\n",
    "#cart2<-prune(cart1,0.21)\n",
    "\n",
    "#plot(cart2)\n",
    "#text(cart2,use.n=TRUE, all=TRUE, cex=.8)\n",
    "\n",
    "\n",
    "\n",
    "predict_cart1<-predict(cart1,testing)\n",
    "predict_cart2<-predict(cart2,testing)\n",
    "predict_lm1<-predict(lm1,testing)\n",
    "predict_nnet1<-predict(nnet1,testing)\n",
    "print(\"rmse\")\n",
    "rmse(testing$price,predict_cart1)\n",
    "\n",
    "rmse(testing$price,predict_cart2)\n",
    "rmse(testing$price,predict_rf)\n",
    "rmse(testing$price,predict_lm1)\n",
    "rmse(testing$price,predict_nnet1)\n",
    "\n",
    "print(\"mae\")\n",
    "mae(testing$price,predict_cart1)\n",
    "mae(testing$price,predict_cart2)\n",
    "mae(testing$price,predict_lm1)\n",
    "mae(testing$price,predict_nnet1)\n",
    "\n",
    "#head(training)\n",
    "#plot(lm1)\n",
    "#as_character as_integer\n",
    "\n"
   ]
  },
  {
   "cell_type": "code",
   "execution_count": null,
   "metadata": {
    "collapsed": true
   },
   "outputs": [],
   "source": [
    "\n"
   ]
  }
 ],
 "metadata": {
  "kernelspec": {
   "display_name": "R",
   "language": "R",
   "name": "ir"
  },
  "language_info": {
   "codemirror_mode": "r",
   "file_extension": ".r",
   "mimetype": "text/x-r-source",
   "name": "R",
   "pygments_lexer": "r",
   "version": "3.4.1"
  }
 },
 "nbformat": 4,
 "nbformat_minor": 1
}
