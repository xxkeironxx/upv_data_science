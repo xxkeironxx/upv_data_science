{
 "cells": [
  {
   "cell_type": "code",
   "execution_count": 14,
   "metadata": {},
   "outputs": [
    {
     "ename": "ERROR",
     "evalue": "Error in library(infotheo): there is no package called 'infotheo'\n",
     "output_type": "error",
     "traceback": [
      "Error in library(infotheo): there is no package called 'infotheo'\nTraceback:\n",
      "1. library(infotheo)",
      "2. stop(txt, domain = NA)"
     ]
    }
   ],
   "source": [
    "airquality <- read.csv(\"airquality.csv\") \n",
    "library(scales)\n",
    "library(infotheo)\n",
    "#discrete_scale"
   ]
  }
 ],
 "metadata": {
  "kernelspec": {
   "display_name": "R",
   "language": "R",
   "name": "ir"
  },
  "language_info": {
   "codemirror_mode": "r",
   "file_extension": ".r",
   "mimetype": "text/x-r-source",
   "name": "R",
   "pygments_lexer": "r",
   "version": "3.4.1"
  }
 },
 "nbformat": 4,
 "nbformat_minor": 1
}
