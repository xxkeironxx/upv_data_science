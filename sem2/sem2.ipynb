{
 "cells": [
  {
   "cell_type": "code",
   "execution_count": 47,
   "metadata": {},
   "outputs": [
    {
     "data": {
      "text/html": [
       "1.3260875253643"
      ],
      "text/latex": [
       "1.3260875253643"
      ],
      "text/markdown": [
       "1.3260875253643"
      ],
      "text/plain": [
       "[1] 1.326088"
      ]
     },
     "metadata": {},
     "output_type": "display_data"
    },
    {
     "name": "stderr",
     "output_type": "stream",
     "text": [
      "enter feature 1\n",
      "u.t 32\n",
      "target 3\n",
      "da 7\n",
      "pa 12\n",
      "r ===== 0.226802210443536\n",
      "target 2\n",
      "da 5\n",
      "pa 12\n",
      "r ===== 0.2268022104435360.26313216788204\n",
      "enter feature 2\n",
      "u.t 31\n",
      "target 3\n",
      "da 8\n",
      "pa 12\n",
      "r ===== 0.2268022104435360.263132167882040.194987500240385\n",
      "target 1\n",
      "da 4\n",
      "pa 12\n",
      "r ===== 0.2268022104435360.263132167882040.1949875002403850.264160416786859\n",
      "aaaaaentropiaaa -0.949082295352821\n"
     ]
    }
   ],
   "source": [
    "library(entropy)\n",
    "library(FSelector)\n",
    "sys.source(\"Entropy1.R\")\n",
    "sys.source(\"Entropy.R\")\n",
    "sys.source(\"Gain.R\")\n",
    "\n",
    "\n",
    "data<-read.table(\"lenses.data.txt\")\n",
    "fact<-data\n",
    "#fact=as.data.frame(data)\n",
    "fact$V2<-as.factor(data[, 2])\n",
    "fact$V3<-as.factor(data[, 3])\n",
    "fact$V4<-as.factor(data[, 4])\n",
    "fact$V5<-as.factor(data[, 5])\n",
    "fact$V6<-as.factor(data[, 6])\n",
    "#df$V1 <- NULL\n",
    "\n",
    "#freq<-table(data$V6)/length(data$V6)\n",
    "#-sum(freq * log2(freq))\n",
    "#entropy.empirical(freq, unit=c(\"log2\"))\n",
    "\n",
    "\n",
    "#Entropy1(data$V6)\n",
    "Entropy(fact,6)\n",
    "#Gain\n",
    "#information.gain(V6 ~ ., data=fact[,2:6], unit=\"log2\")\n",
    "\n",
    "#Gain(fact, 5,6)\n",
    "\n",
    "X<-fact\n",
    "feature<-4\n",
    "targetId<-6\n",
    "if ( is.character(X[, feature]) | is.factor(X[, feature]) ) {\n",
    "    u.f <- unique(X[, feature]) # Obtains all possible cases from feature in x\n",
    "    n<-nrow(X)\n",
    "    r <- c()\n",
    "    \n",
    "    for (f in u.f) {\n",
    "        message(\"enter feature \", f)\n",
    "        Xf<- X[X[, feature] == f,]\n",
    "        u.t<-unique(Xf[, targetId])\n",
    "        message(\"u.t \", u.t)\n",
    "        for (t in u.t ){\n",
    "            message(\"target \", t)\n",
    "            Xi<- Xf[Xf[, targetId] == t,]\n",
    "            da<-nrow(Xi) # Number of possible values of targetId in feature\n",
    "            pa<-nrow(Xf) #total number of values in feature\n",
    "            message(\"da \", da)\n",
    "            message(\"pa \", pa)\n",
    "            pi<-da/pa\n",
    "            ent<-(-pi*log2(pi))*pa/n \n",
    "            \n",
    "            r<-c(r,ent)\n",
    "            message(\"r ===== \", r)\n",
    "        }\n",
    "   }\n",
    "   message(paste('aaaaaentropiaaa', -sum(r)))\n",
    "   #print(\"aaaaaentropiaaa\"Entropy(X)-sum(r))\n",
    "}\n",
    "\n",
    "\n",
    "\n",
    "#fact"
   ]
  },
  {
   "cell_type": "code",
   "execution_count": 23,
   "metadata": {},
   "outputs": [
    {
     "data": {
      "text/html": [
       "<table>\n",
       "<thead><tr><th></th><th scope=col>V1</th><th scope=col>V2</th><th scope=col>V3</th><th scope=col>V4</th><th scope=col>V5</th><th scope=col>V6</th></tr></thead>\n",
       "<tbody>\n",
       "\t<tr><th scope=row>1</th><td> 1</td><td>1 </td><td>1 </td><td>1 </td><td>1 </td><td>3 </td></tr>\n",
       "\t<tr><th scope=row>3</th><td> 3</td><td>1 </td><td>1 </td><td>2 </td><td>1 </td><td>3 </td></tr>\n",
       "\t<tr><th scope=row>5</th><td> 5</td><td>1 </td><td>2 </td><td>1 </td><td>1 </td><td>3 </td></tr>\n",
       "\t<tr><th scope=row>7</th><td> 7</td><td>1 </td><td>2 </td><td>2 </td><td>1 </td><td>3 </td></tr>\n",
       "\t<tr><th scope=row>9</th><td> 9</td><td>2 </td><td>1 </td><td>1 </td><td>1 </td><td>3 </td></tr>\n",
       "\t<tr><th scope=row>11</th><td>11</td><td>2 </td><td>1 </td><td>2 </td><td>1 </td><td>3 </td></tr>\n",
       "\t<tr><th scope=row>13</th><td>13</td><td>2 </td><td>2 </td><td>1 </td><td>1 </td><td>3 </td></tr>\n",
       "\t<tr><th scope=row>15</th><td>15</td><td>2 </td><td>2 </td><td>2 </td><td>1 </td><td>3 </td></tr>\n",
       "\t<tr><th scope=row>17</th><td>17</td><td>3 </td><td>1 </td><td>1 </td><td>1 </td><td>3 </td></tr>\n",
       "\t<tr><th scope=row>19</th><td>19</td><td>3 </td><td>1 </td><td>2 </td><td>1 </td><td>3 </td></tr>\n",
       "\t<tr><th scope=row>21</th><td>21</td><td>3 </td><td>2 </td><td>1 </td><td>1 </td><td>3 </td></tr>\n",
       "\t<tr><th scope=row>23</th><td>23</td><td>3 </td><td>2 </td><td>2 </td><td>1 </td><td>3 </td></tr>\n",
       "</tbody>\n",
       "</table>\n"
      ],
      "text/latex": [
       "\\begin{tabular}{r|llllll}\n",
       "  & V1 & V2 & V3 & V4 & V5 & V6\\\\\n",
       "\\hline\n",
       "\t1 &  1 & 1  & 1  & 1  & 1  & 3 \\\\\n",
       "\t3 &  3 & 1  & 1  & 2  & 1  & 3 \\\\\n",
       "\t5 &  5 & 1  & 2  & 1  & 1  & 3 \\\\\n",
       "\t7 &  7 & 1  & 2  & 2  & 1  & 3 \\\\\n",
       "\t9 &  9 & 2  & 1  & 1  & 1  & 3 \\\\\n",
       "\t11 & 11 & 2  & 1  & 2  & 1  & 3 \\\\\n",
       "\t13 & 13 & 2  & 2  & 1  & 1  & 3 \\\\\n",
       "\t15 & 15 & 2  & 2  & 2  & 1  & 3 \\\\\n",
       "\t17 & 17 & 3  & 1  & 1  & 1  & 3 \\\\\n",
       "\t19 & 19 & 3  & 1  & 2  & 1  & 3 \\\\\n",
       "\t21 & 21 & 3  & 2  & 1  & 1  & 3 \\\\\n",
       "\t23 & 23 & 3  & 2  & 2  & 1  & 3 \\\\\n",
       "\\end{tabular}\n"
      ],
      "text/markdown": [
       "\n",
       "| <!--/--> | V1 | V2 | V3 | V4 | V5 | V6 | \n",
       "|---|---|---|---|---|---|---|---|---|---|---|---|\n",
       "| 1 |  1 | 1  | 1  | 1  | 1  | 3  | \n",
       "| 3 |  3 | 1  | 1  | 2  | 1  | 3  | \n",
       "| 5 |  5 | 1  | 2  | 1  | 1  | 3  | \n",
       "| 7 |  7 | 1  | 2  | 2  | 1  | 3  | \n",
       "| 9 |  9 | 2  | 1  | 1  | 1  | 3  | \n",
       "| 11 | 11 | 2  | 1  | 2  | 1  | 3  | \n",
       "| 13 | 13 | 2  | 2  | 1  | 1  | 3  | \n",
       "| 15 | 15 | 2  | 2  | 2  | 1  | 3  | \n",
       "| 17 | 17 | 3  | 1  | 1  | 1  | 3  | \n",
       "| 19 | 19 | 3  | 1  | 2  | 1  | 3  | \n",
       "| 21 | 21 | 3  | 2  | 1  | 1  | 3  | \n",
       "| 23 | 23 | 3  | 2  | 2  | 1  | 3  | \n",
       "\n",
       "\n"
      ],
      "text/plain": [
       "   V1 V2 V3 V4 V5 V6\n",
       "1   1 1  1  1  1  3 \n",
       "3   3 1  1  2  1  3 \n",
       "5   5 1  2  1  1  3 \n",
       "7   7 1  2  2  1  3 \n",
       "9   9 2  1  1  1  3 \n",
       "11 11 2  1  2  1  3 \n",
       "13 13 2  2  1  1  3 \n",
       "15 15 2  2  2  1  3 \n",
       "17 17 3  1  1  1  3 \n",
       "19 19 3  1  2  1  3 \n",
       "21 21 3  2  1  1  3 \n",
       "23 23 3  2  2  1  3 "
      ]
     },
     "metadata": {},
     "output_type": "display_data"
    },
    {
     "data": {
      "text/html": [
       "<ol class=list-inline>\n",
       "\t<li>3</li>\n",
       "\t<li>1</li>\n",
       "</ol>\n"
      ],
      "text/latex": [
       "\\begin{enumerate*}\n",
       "\\item 3\n",
       "\\item 1\n",
       "\\end{enumerate*}\n"
      ],
      "text/markdown": [
       "1. 3\n",
       "2. 1\n",
       "\n",
       "\n"
      ],
      "text/plain": [
       "[1] 3 1"
      ]
     },
     "metadata": {},
     "output_type": "display_data"
    },
    {
     "data": {
      "text/html": [
       "0.453604420887072"
      ],
      "text/latex": [
       "0.453604420887072"
      ],
      "text/markdown": [
       "0.453604420887072"
      ],
      "text/plain": [
       "[1] 0.4536044"
      ]
     },
     "metadata": {},
     "output_type": "display_data"
    }
   ],
   "source": [
    "X<-read.table(\"lenses.data.txt\")\n",
    "X[X[, 5] == 1,]\n",
    "Xf<- X[X[, feature] == f,]\n",
    "unique(Xf[, 6])\n",
    "\n",
    "-7*(log2(7/12))/1"
   ]
  },
  {
   "cell_type": "code",
   "execution_count": 128,
   "metadata": {},
   "outputs": [
    {
     "data": {
      "text/html": [
       "1.3260875253643"
      ],
      "text/latex": [
       "1.3260875253643"
      ],
      "text/markdown": [
       "1.3260875253643"
      ],
      "text/plain": [
       "[1] 1.326088"
      ]
     },
     "metadata": {},
     "output_type": "display_data"
    },
    {
     "data": {
      "text/html": [
       "1.3260875253643"
      ],
      "text/latex": [
       "1.3260875253643"
      ],
      "text/markdown": [
       "1.3260875253643"
      ],
      "text/plain": [
       "[1] 1.326088"
      ]
     },
     "metadata": {},
     "output_type": "display_data"
    },
    {
     "data": {
      "text/html": [
       "1.3260875253643"
      ],
      "text/latex": [
       "1.3260875253643"
      ],
      "text/markdown": [
       "1.3260875253643"
      ],
      "text/plain": [
       "[1] 1.326088"
      ]
     },
     "metadata": {},
     "output_type": "display_data"
    },
    {
     "data": {
      "text/html": [
       "<table>\n",
       "<thead><tr><th></th><th scope=col>attr_importance</th></tr></thead>\n",
       "<tbody>\n",
       "\t<tr><th scope=row>V2</th><td>0.03939650</td></tr>\n",
       "\t<tr><th scope=row>V3</th><td>0.03951084</td></tr>\n",
       "\t<tr><th scope=row>V4</th><td>0.37700523</td></tr>\n",
       "\t<tr><th scope=row>V5</th><td>0.54879494</td></tr>\n",
       "</tbody>\n",
       "</table>\n"
      ],
      "text/latex": [
       "\\begin{tabular}{r|l}\n",
       "  & attr\\_importance\\\\\n",
       "\\hline\n",
       "\tV2 & 0.03939650\\\\\n",
       "\tV3 & 0.03951084\\\\\n",
       "\tV4 & 0.37700523\\\\\n",
       "\tV5 & 0.54879494\\\\\n",
       "\\end{tabular}\n"
      ],
      "text/markdown": [
       "\n",
       "| <!--/--> | attr_importance | \n",
       "|---|---|---|---|\n",
       "| V2 | 0.03939650 | \n",
       "| V3 | 0.03951084 | \n",
       "| V4 | 0.37700523 | \n",
       "| V5 | 0.54879494 | \n",
       "\n",
       "\n"
      ],
      "text/plain": [
       "   attr_importance\n",
       "V2 0.03939650     \n",
       "V3 0.03951084     \n",
       "V4 0.37700523     \n",
       "V5 0.54879494     "
      ]
     },
     "metadata": {},
     "output_type": "display_data"
    },
    {
     "data": {
      "text/html": [
       "<table>\n",
       "<thead><tr><th></th><th scope=col>colname</th><th scope=col>Gain</th></tr></thead>\n",
       "<tbody>\n",
       "\t<tr><th scope=row>4</th><td>5        </td><td>0.5487949</td></tr>\n",
       "</tbody>\n",
       "</table>\n"
      ],
      "text/latex": [
       "\\begin{tabular}{r|ll}\n",
       "  & colname & Gain\\\\\n",
       "\\hline\n",
       "\t4 & 5         & 0.5487949\\\\\n",
       "\\end{tabular}\n"
      ],
      "text/markdown": [
       "\n",
       "| <!--/--> | colname | Gain | \n",
       "|---|\n",
       "| 4 | 5         | 0.5487949 | \n",
       "\n",
       "\n"
      ],
      "text/plain": [
       "  colname Gain     \n",
       "4 5       0.5487949"
      ]
     },
     "metadata": {},
     "output_type": "display_data"
    }
   ],
   "source": [
    "#tenemos 2 distintas realizaciones de las funciones(original y mas corta)\n",
    "#Arbol va a eligir un feature que da gain mas grande(columna 5 de dataset)\n",
    "#\n",
    "#by Stanislav Sitanskiy & Oscar Munoz\n",
    "\n",
    "library(entropy)\n",
    "library(FSelector)\n",
    "sys.source(\"Entropy1.R\")\n",
    "sys.source(\"Entropy.R\")\n",
    "sys.source(\"Gain.R\")\n",
    "#sys.source(\"Gain1.R\")\n",
    "\n",
    "\n",
    "data<-read.table(\"lenses.data.txt\")\n",
    "fact<-data\n",
    "#fact=as.data.frame(data)\n",
    "fact$V2<-as.factor(data[, 2])\n",
    "fact$V3<-as.factor(data[, 3])\n",
    "fact$V4<-as.factor(data[, 4])\n",
    "fact$V5<-as.factor(data[, 5])\n",
    "fact$V6<-as.factor(data[, 6])\n",
    "\n",
    "freq<-table(data$V6)/length(data$V6)\n",
    "entropy.empirical(freq, unit=c(\"log2\"))\n",
    "Entropy(fact,6)\n",
    "Entropy1(fact$V6)\n",
    "\n",
    "\n",
    "information.gain(V6 ~ ., data=fact[,2:6], unit=\"log2\")\n",
    "ro <- c()\n",
    "for (a in 2:5){\n",
    "    #message(a,\" \", Gain(fact, a,6))\n",
    "    ro<-c(ro,Gain(fact, a,6))\n",
    "}\n",
    "d<-data.frame(colname=c(2:5),Gain=c(ro))\n",
    "d[d$Gain==max(d$Gain),]\n",
    "\n",
    "\n"
   ]
  },
  {
   "cell_type": "code",
   "execution_count": 55,
   "metadata": {},
   "outputs": [
    {
     "data": {
      "text/html": [
       "1.3260875253643"
      ],
      "text/latex": [
       "1.3260875253643"
      ],
      "text/markdown": [
       "1.3260875253643"
      ],
      "text/plain": [
       "[1] 1.326088"
      ]
     },
     "metadata": {},
     "output_type": "display_data"
    },
    {
     "name": "stderr",
     "output_type": "stream",
     "text": [
      "enter feature 1\n"
     ]
    },
    {
     "name": "stdout",
     "output_type": "stream",
     "text": [
      "\n",
      "        1         2         3 \n",
      "0.0000000 0.4166667 0.5833333 \n",
      "[1] NaN\n",
      "[1] NaN\n",
      "[1] NaN\n"
     ]
    },
    {
     "name": "stderr",
     "output_type": "stream",
     "text": [
      "enter feature 2\n"
     ]
    },
    {
     "name": "stdout",
     "output_type": "stream",
     "text": [
      "\n",
      "        1         2         3 \n",
      "0.3333333 0.0000000 0.6666667 \n",
      "[1] NaN\n",
      "[1] NaN\n",
      "[1] NaN NaN\n",
      "[1] 0\n"
     ]
    },
    {
     "data": {
      "text/html": [
       "-0.526264329775391"
      ],
      "text/latex": [
       "-0.526264329775391"
      ],
      "text/markdown": [
       "-0.526264329775391"
      ],
      "text/plain": [
       "[1] -0.5262643"
      ]
     },
     "metadata": {},
     "output_type": "display_data"
    }
   ],
   "source": [
    "library(entropy)\n",
    "library(FSelector)\n",
    "sys.source(\"Entropy1.R\")\n",
    "sys.source(\"Entropy.R\")\n",
    "sys.source(\"Gain.R\")\n",
    "\n",
    "\n",
    "data<-read.table(\"lenses.data.txt\")\n",
    "fact<-data\n",
    "#fact=as.data.frame(data)\n",
    "fact$V2<-as.factor(data[, 2])\n",
    "fact$V3<-as.factor(data[, 3])\n",
    "fact$V4<-as.factor(data[, 4])\n",
    "fact$V5<-as.factor(data[, 5])\n",
    "fact$V6<-as.factor(data[, 6])\n",
    "#df$V1 <- NULL\n",
    "\n",
    "#freq<-table(data$V6)/length(data$V6)\n",
    "#-sum(freq * log2(freq))\n",
    "#entropy.empirical(freq, unit=c(\"log2\"))\n",
    "\n",
    "\n",
    "#Entropy1(data$V6)\n",
    "Entropy(fact,6)\n",
    "#Gain\n",
    "#information.gain(V6 ~ ., data=fact[,2:6], unit=\"log2\")\n",
    "\n",
    "#Gain(fact, 5,6)\n",
    "\n",
    "X<-fact\n",
    "feature<-4\n",
    "targetId<-6\n",
    "if ( is.character(X[, feature]) | is.factor(X[, feature]) ) {\n",
    "    u.f <- unique(X[, feature]) # Obtains all possible cases from feature in x\n",
    "    n<-nrow(X)\n",
    "    r <- c()\n",
    "    for (f in u.f) {\n",
    "        message(\"enter feature \", f)\n",
    "        Xf<- X[X[, feature] == f,]\n",
    "        u.t<-unique(Xf[, targetId])\n",
    "        freq<-(table(Xf[, targetId])/length(Xf[, targetId]))\n",
    "        print(freq)\n",
    "        ent<-(-sum(freq * log2(freq))*nrow(Xf)/n)\n",
    "        print(-sum(freq * log2(freq)))\n",
    "        print(ent)\n",
    "        r<-c(r,ent)\n",
    "        print(r)\n",
    "        }\n",
    "    \n",
    "    print(-sum(r, na.rm=TRUE))\n",
    "    }\n"
   ]
  },
  {
   "cell_type": "code",
   "execution_count": 123,
   "metadata": {},
   "outputs": [
    {
     "data": {
      "text/html": [
       "<table>\n",
       "<thead><tr><th scope=col>V1</th><th scope=col>V2</th><th scope=col>V3</th><th scope=col>V4</th><th scope=col>V5</th><th scope=col>V6</th></tr></thead>\n",
       "<tbody>\n",
       "\t<tr><td> 1</td><td>1 </td><td>1 </td><td>1 </td><td>1 </td><td>3 </td></tr>\n",
       "\t<tr><td> 2</td><td>1 </td><td>1 </td><td>1 </td><td>2 </td><td>2 </td></tr>\n",
       "\t<tr><td> 3</td><td>1 </td><td>1 </td><td>2 </td><td>1 </td><td>3 </td></tr>\n",
       "\t<tr><td> 4</td><td>1 </td><td>1 </td><td>2 </td><td>2 </td><td>1 </td></tr>\n",
       "\t<tr><td> 5</td><td>1 </td><td>2 </td><td>1 </td><td>1 </td><td>3 </td></tr>\n",
       "\t<tr><td> 6</td><td>1 </td><td>2 </td><td>1 </td><td>2 </td><td>2 </td></tr>\n",
       "\t<tr><td> 7</td><td>1 </td><td>2 </td><td>2 </td><td>1 </td><td>3 </td></tr>\n",
       "\t<tr><td> 8</td><td>1 </td><td>2 </td><td>2 </td><td>2 </td><td>1 </td></tr>\n",
       "\t<tr><td> 9</td><td>2 </td><td>1 </td><td>1 </td><td>1 </td><td>3 </td></tr>\n",
       "\t<tr><td>10</td><td>2 </td><td>1 </td><td>1 </td><td>2 </td><td>2 </td></tr>\n",
       "\t<tr><td>11</td><td>2 </td><td>1 </td><td>2 </td><td>1 </td><td>3 </td></tr>\n",
       "\t<tr><td>12</td><td>2 </td><td>1 </td><td>2 </td><td>2 </td><td>1 </td></tr>\n",
       "\t<tr><td>13</td><td>2 </td><td>2 </td><td>1 </td><td>1 </td><td>3 </td></tr>\n",
       "\t<tr><td>14</td><td>2 </td><td>2 </td><td>1 </td><td>2 </td><td>2 </td></tr>\n",
       "\t<tr><td>15</td><td>2 </td><td>2 </td><td>2 </td><td>1 </td><td>3 </td></tr>\n",
       "\t<tr><td>16</td><td>2 </td><td>2 </td><td>2 </td><td>2 </td><td>3 </td></tr>\n",
       "\t<tr><td>17</td><td>3 </td><td>1 </td><td>1 </td><td>1 </td><td>3 </td></tr>\n",
       "\t<tr><td>18</td><td>3 </td><td>1 </td><td>1 </td><td>2 </td><td>3 </td></tr>\n",
       "\t<tr><td>19</td><td>3 </td><td>1 </td><td>2 </td><td>1 </td><td>3 </td></tr>\n",
       "\t<tr><td>20</td><td>3 </td><td>1 </td><td>2 </td><td>2 </td><td>1 </td></tr>\n",
       "\t<tr><td>21</td><td>3 </td><td>2 </td><td>1 </td><td>1 </td><td>3 </td></tr>\n",
       "\t<tr><td>22</td><td>3 </td><td>2 </td><td>1 </td><td>2 </td><td>2 </td></tr>\n",
       "\t<tr><td>23</td><td>3 </td><td>2 </td><td>2 </td><td>1 </td><td>3 </td></tr>\n",
       "\t<tr><td>24</td><td>3 </td><td>2 </td><td>2 </td><td>2 </td><td>3 </td></tr>\n",
       "</tbody>\n",
       "</table>\n"
      ],
      "text/latex": [
       "\\begin{tabular}{r|llllll}\n",
       " V1 & V2 & V3 & V4 & V5 & V6\\\\\n",
       "\\hline\n",
       "\t  1 & 1  & 1  & 1  & 1  & 3 \\\\\n",
       "\t  2 & 1  & 1  & 1  & 2  & 2 \\\\\n",
       "\t  3 & 1  & 1  & 2  & 1  & 3 \\\\\n",
       "\t  4 & 1  & 1  & 2  & 2  & 1 \\\\\n",
       "\t  5 & 1  & 2  & 1  & 1  & 3 \\\\\n",
       "\t  6 & 1  & 2  & 1  & 2  & 2 \\\\\n",
       "\t  7 & 1  & 2  & 2  & 1  & 3 \\\\\n",
       "\t  8 & 1  & 2  & 2  & 2  & 1 \\\\\n",
       "\t  9 & 2  & 1  & 1  & 1  & 3 \\\\\n",
       "\t 10 & 2  & 1  & 1  & 2  & 2 \\\\\n",
       "\t 11 & 2  & 1  & 2  & 1  & 3 \\\\\n",
       "\t 12 & 2  & 1  & 2  & 2  & 1 \\\\\n",
       "\t 13 & 2  & 2  & 1  & 1  & 3 \\\\\n",
       "\t 14 & 2  & 2  & 1  & 2  & 2 \\\\\n",
       "\t 15 & 2  & 2  & 2  & 1  & 3 \\\\\n",
       "\t 16 & 2  & 2  & 2  & 2  & 3 \\\\\n",
       "\t 17 & 3  & 1  & 1  & 1  & 3 \\\\\n",
       "\t 18 & 3  & 1  & 1  & 2  & 3 \\\\\n",
       "\t 19 & 3  & 1  & 2  & 1  & 3 \\\\\n",
       "\t 20 & 3  & 1  & 2  & 2  & 1 \\\\\n",
       "\t 21 & 3  & 2  & 1  & 1  & 3 \\\\\n",
       "\t 22 & 3  & 2  & 1  & 2  & 2 \\\\\n",
       "\t 23 & 3  & 2  & 2  & 1  & 3 \\\\\n",
       "\t 24 & 3  & 2  & 2  & 2  & 3 \\\\\n",
       "\\end{tabular}\n"
      ],
      "text/markdown": [
       "\n",
       "V1 | V2 | V3 | V4 | V5 | V6 | \n",
       "|---|---|---|---|---|---|---|---|---|---|---|---|---|---|---|---|---|---|---|---|---|---|---|---|\n",
       "|  1 | 1  | 1  | 1  | 1  | 3  | \n",
       "|  2 | 1  | 1  | 1  | 2  | 2  | \n",
       "|  3 | 1  | 1  | 2  | 1  | 3  | \n",
       "|  4 | 1  | 1  | 2  | 2  | 1  | \n",
       "|  5 | 1  | 2  | 1  | 1  | 3  | \n",
       "|  6 | 1  | 2  | 1  | 2  | 2  | \n",
       "|  7 | 1  | 2  | 2  | 1  | 3  | \n",
       "|  8 | 1  | 2  | 2  | 2  | 1  | \n",
       "|  9 | 2  | 1  | 1  | 1  | 3  | \n",
       "| 10 | 2  | 1  | 1  | 2  | 2  | \n",
       "| 11 | 2  | 1  | 2  | 1  | 3  | \n",
       "| 12 | 2  | 1  | 2  | 2  | 1  | \n",
       "| 13 | 2  | 2  | 1  | 1  | 3  | \n",
       "| 14 | 2  | 2  | 1  | 2  | 2  | \n",
       "| 15 | 2  | 2  | 2  | 1  | 3  | \n",
       "| 16 | 2  | 2  | 2  | 2  | 3  | \n",
       "| 17 | 3  | 1  | 1  | 1  | 3  | \n",
       "| 18 | 3  | 1  | 1  | 2  | 3  | \n",
       "| 19 | 3  | 1  | 2  | 1  | 3  | \n",
       "| 20 | 3  | 1  | 2  | 2  | 1  | \n",
       "| 21 | 3  | 2  | 1  | 1  | 3  | \n",
       "| 22 | 3  | 2  | 1  | 2  | 2  | \n",
       "| 23 | 3  | 2  | 2  | 1  | 3  | \n",
       "| 24 | 3  | 2  | 2  | 2  | 3  | \n",
       "\n",
       "\n"
      ],
      "text/plain": [
       "   V1 V2 V3 V4 V5 V6\n",
       "1   1 1  1  1  1  3 \n",
       "2   2 1  1  1  2  2 \n",
       "3   3 1  1  2  1  3 \n",
       "4   4 1  1  2  2  1 \n",
       "5   5 1  2  1  1  3 \n",
       "6   6 1  2  1  2  2 \n",
       "7   7 1  2  2  1  3 \n",
       "8   8 1  2  2  2  1 \n",
       "9   9 2  1  1  1  3 \n",
       "10 10 2  1  1  2  2 \n",
       "11 11 2  1  2  1  3 \n",
       "12 12 2  1  2  2  1 \n",
       "13 13 2  2  1  1  3 \n",
       "14 14 2  2  1  2  2 \n",
       "15 15 2  2  2  1  3 \n",
       "16 16 2  2  2  2  3 \n",
       "17 17 3  1  1  1  3 \n",
       "18 18 3  1  1  2  3 \n",
       "19 19 3  1  2  1  3 \n",
       "20 20 3  1  2  2  1 \n",
       "21 21 3  2  1  1  3 \n",
       "22 22 3  2  1  2  2 \n",
       "23 23 3  2  2  1  3 \n",
       "24 24 3  2  2  2  3 "
      ]
     },
     "metadata": {},
     "output_type": "display_data"
    }
   ],
   "source": [
    "library(entropy)\n",
    "library(FSelector)\n",
    "sys.source(\"Entropy1.R\")\n",
    "sys.source(\"Entropy.R\")\n",
    "sys.source(\"Gain.R\")\n",
    "\n",
    "\n",
    "data<-read.table(\"lenses.data.txt\")\n",
    "fact<-data\n",
    "fact"
   ]
  }
 ],
 "metadata": {
  "kernelspec": {
   "display_name": "R",
   "language": "R",
   "name": "ir"
  },
  "language_info": {
   "codemirror_mode": "r",
   "file_extension": ".r",
   "mimetype": "text/x-r-source",
   "name": "R",
   "pygments_lexer": "r",
   "version": "3.4.1"
  }
 },
 "nbformat": 4,
 "nbformat_minor": 1
}
