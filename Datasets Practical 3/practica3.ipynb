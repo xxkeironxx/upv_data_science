{
 "cells": [
  {
   "cell_type": "code",
   "execution_count": 1,
   "metadata": {},
   "outputs": [],
   "source": [
    "queratocono <- read.csv(\"Queratocono.csv\")\n",
    "library(\"ggplot2\")\n",
    "#queratocono\n",
    "\n",
    "#1) k1&k2 curve\n",
    "#ggplot(queratocono, aes(K1, K2) )+geom_smooth() + geom_point()\n",
    "\n",
    "#k1&k2 line\n",
    "#ggplot(queratocono, aes(K1, K2) )+geom_smooth(se=TRUE, method=\"lm\") + geom_point()\n",
    "\n",
    "#2) k1&k2 + fact(na)\n",
    "#ggplot(queratocono, aes(K1, K2, colour=factor(na)) )+geom_smooth(se=TRUE, method=\"lm\") + geom_point()\n",
    "\n",
    "#3) k1 &k1.salida\n",
    "#ggplot(queratocono, aes(K1, K1.salida) ) + geom_point()\n",
    "\n",
    "#4) count of factor(grosor)\n",
    "#ggplot(queratocono, aes(factor(grosor), fill=factor(na))) + geom_bar()\n",
    "\n",
    "#5) k1 &k2 faceting\n",
    "#ggplot(queratocono, aes(K1, K2, colour=factor(grosor)) ) + geom_point() + facet_grid(diam~na)\n",
    "\n",
    "#6)\n",
    "#ggplot(queratocono, aes(factor(grosor), K1 ))+geom_boxplot()\n",
    "#ggplot(queratocono, aes(factor(grosor), K1 ))+geom_boxplot()\n"
   ]
  }
 ],
 "metadata": {
  "kernelspec": {
   "display_name": "R",
   "language": "R",
   "name": "ir"
  },
  "language_info": {
   "codemirror_mode": "r",
   "file_extension": ".r",
   "mimetype": "text/x-r-source",
   "name": "R",
   "pygments_lexer": "r",
   "version": "3.4.1"
  }
 },
 "nbformat": 4,
 "nbformat_minor": 1
}
