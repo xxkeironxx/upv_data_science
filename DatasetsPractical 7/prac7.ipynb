{
 "cells": [
  {
   "cell_type": "code",
   "execution_count": 43,
   "metadata": {},
   "outputs": [
    {
     "data": {
      "text/html": [],
      "text/latex": [],
      "text/markdown": [],
      "text/plain": [
       "character(0)"
      ]
     },
     "metadata": {},
     "output_type": "display_data"
    },
    {
     "name": "stdout",
     "output_type": "stream",
     "text": [
      "c50 code called exit with value 1\n"
     ]
    },
    {
     "name": "stderr",
     "output_type": "stream",
     "text": [
      "Warning message:\n",
      "\"predictions failed for Fold01: model=tree, winnow=FALSE, trials=20 Error in predict.C5.0(modelFit, newdata) : \n",
      "  either a tree or rules must be provided\n",
      "\""
     ]
    },
    {
     "name": "stdout",
     "output_type": "stream",
     "text": [
      "c50 code called exit with value 1\n"
     ]
    },
    {
     "name": "stderr",
     "output_type": "stream",
     "text": [
      "Warning message:\n",
      "\"predictions failed for Fold01: model=tree, winnow= TRUE, trials=20 Error in predict.C5.0(modelFit, newdata) : \n",
      "  either a tree or rules must be provided\n",
      "\""
     ]
    },
    {
     "name": "stdout",
     "output_type": "stream",
     "text": [
      "c50 code called exit with value 1\n"
     ]
    },
    {
     "name": "stderr",
     "output_type": "stream",
     "text": [
      "Warning message:\n",
      "\"predictions failed for Fold01: model=rules, winnow=FALSE, trials=20 Error in predict.C5.0(modelFit, newdata) : \n",
      "  either a tree or rules must be provided\n",
      "\""
     ]
    },
    {
     "name": "stdout",
     "output_type": "stream",
     "text": [
      "c50 code called exit with value 1\n"
     ]
    },
    {
     "name": "stderr",
     "output_type": "stream",
     "text": [
      "Warning message:\n",
      "\"predictions failed for Fold01: model=rules, winnow= TRUE, trials=20 Error in predict.C5.0(modelFit, newdata) : \n",
      "  either a tree or rules must be provided\n",
      "\""
     ]
    },
    {
     "name": "stdout",
     "output_type": "stream",
     "text": [
      "c50 code called exit with value 1\n"
     ]
    },
    {
     "name": "stderr",
     "output_type": "stream",
     "text": [
      "Warning message:\n",
      "\"predictions failed for Fold02: model=tree, winnow=FALSE, trials=20 Error in predict.C5.0(modelFit, newdata) : \n",
      "  either a tree or rules must be provided\n",
      "\""
     ]
    },
    {
     "name": "stdout",
     "output_type": "stream",
     "text": [
      "c50 code called exit with value 1\n"
     ]
    },
    {
     "name": "stderr",
     "output_type": "stream",
     "text": [
      "Warning message:\n",
      "\"predictions failed for Fold02: model=tree, winnow= TRUE, trials=20 Error in predict.C5.0(modelFit, newdata) : \n",
      "  either a tree or rules must be provided\n",
      "\""
     ]
    },
    {
     "name": "stdout",
     "output_type": "stream",
     "text": [
      "c50 code called exit with value 1\n"
     ]
    },
    {
     "name": "stderr",
     "output_type": "stream",
     "text": [
      "Warning message:\n",
      "\"predictions failed for Fold02: model=rules, winnow=FALSE, trials=20 Error in predict.C5.0(modelFit, newdata) : \n",
      "  either a tree or rules must be provided\n",
      "\""
     ]
    },
    {
     "name": "stdout",
     "output_type": "stream",
     "text": [
      "c50 code called exit with value 1\n"
     ]
    },
    {
     "name": "stderr",
     "output_type": "stream",
     "text": [
      "Warning message:\n",
      "\"predictions failed for Fold02: model=rules, winnow= TRUE, trials=20 Error in predict.C5.0(modelFit, newdata) : \n",
      "  either a tree or rules must be provided\n",
      "\""
     ]
    },
    {
     "name": "stdout",
     "output_type": "stream",
     "text": [
      "c50 code called exit with value 1\n"
     ]
    },
    {
     "name": "stderr",
     "output_type": "stream",
     "text": [
      "Warning message:\n",
      "\"predictions failed for Fold03: model=tree, winnow=FALSE, trials=20 Error in predict.C5.0(modelFit, newdata) : \n",
      "  either a tree or rules must be provided\n",
      "\""
     ]
    },
    {
     "name": "stdout",
     "output_type": "stream",
     "text": [
      "c50 code called exit with value 1\n"
     ]
    },
    {
     "name": "stderr",
     "output_type": "stream",
     "text": [
      "Warning message:\n",
      "\"predictions failed for Fold03: model=tree, winnow= TRUE, trials=20 Error in predict.C5.0(modelFit, newdata) : \n",
      "  either a tree or rules must be provided\n",
      "\""
     ]
    },
    {
     "name": "stdout",
     "output_type": "stream",
     "text": [
      "c50 code called exit with value 1\n"
     ]
    },
    {
     "name": "stderr",
     "output_type": "stream",
     "text": [
      "Warning message:\n",
      "\"predictions failed for Fold03: model=rules, winnow=FALSE, trials=20 Error in predict.C5.0(modelFit, newdata) : \n",
      "  either a tree or rules must be provided\n",
      "\""
     ]
    },
    {
     "name": "stdout",
     "output_type": "stream",
     "text": [
      "c50 code called exit with value 1\n"
     ]
    },
    {
     "name": "stderr",
     "output_type": "stream",
     "text": [
      "Warning message:\n",
      "\"predictions failed for Fold03: model=rules, winnow= TRUE, trials=20 Error in predict.C5.0(modelFit, newdata) : \n",
      "  either a tree or rules must be provided\n",
      "\""
     ]
    },
    {
     "name": "stdout",
     "output_type": "stream",
     "text": [
      "c50 code called exit with value 1\n"
     ]
    },
    {
     "name": "stderr",
     "output_type": "stream",
     "text": [
      "Warning message:\n",
      "\"predictions failed for Fold04: model=tree, winnow=FALSE, trials=20 Error in predict.C5.0(modelFit, newdata) : \n",
      "  either a tree or rules must be provided\n",
      "\""
     ]
    },
    {
     "name": "stdout",
     "output_type": "stream",
     "text": [
      "c50 code called exit with value 1\n"
     ]
    },
    {
     "name": "stderr",
     "output_type": "stream",
     "text": [
      "Warning message:\n",
      "\"predictions failed for Fold04: model=tree, winnow= TRUE, trials=20 Error in predict.C5.0(modelFit, newdata) : \n",
      "  either a tree or rules must be provided\n",
      "\""
     ]
    },
    {
     "name": "stdout",
     "output_type": "stream",
     "text": [
      "c50 code called exit with value 1\n"
     ]
    },
    {
     "name": "stderr",
     "output_type": "stream",
     "text": [
      "Warning message:\n",
      "\"predictions failed for Fold04: model=rules, winnow=FALSE, trials=20 Error in predict.C5.0(modelFit, newdata) : \n",
      "  either a tree or rules must be provided\n",
      "\""
     ]
    },
    {
     "name": "stdout",
     "output_type": "stream",
     "text": [
      "c50 code called exit with value 1\n"
     ]
    },
    {
     "name": "stderr",
     "output_type": "stream",
     "text": [
      "Warning message:\n",
      "\"predictions failed for Fold04: model=rules, winnow= TRUE, trials=20 Error in predict.C5.0(modelFit, newdata) : \n",
      "  either a tree or rules must be provided\n",
      "\""
     ]
    },
    {
     "name": "stdout",
     "output_type": "stream",
     "text": [
      "c50 code called exit with value 1\n"
     ]
    },
    {
     "name": "stderr",
     "output_type": "stream",
     "text": [
      "Warning message:\n",
      "\"predictions failed for Fold05: model=tree, winnow=FALSE, trials=20 Error in predict.C5.0(modelFit, newdata) : \n",
      "  either a tree or rules must be provided\n",
      "\""
     ]
    },
    {
     "name": "stdout",
     "output_type": "stream",
     "text": [
      "c50 code called exit with value 1\n"
     ]
    },
    {
     "name": "stderr",
     "output_type": "stream",
     "text": [
      "Warning message:\n",
      "\"predictions failed for Fold05: model=tree, winnow= TRUE, trials=20 Error in predict.C5.0(modelFit, newdata) : \n",
      "  either a tree or rules must be provided\n",
      "\""
     ]
    },
    {
     "name": "stdout",
     "output_type": "stream",
     "text": [
      "c50 code called exit with value 1\n"
     ]
    },
    {
     "name": "stderr",
     "output_type": "stream",
     "text": [
      "Warning message:\n",
      "\"predictions failed for Fold05: model=rules, winnow=FALSE, trials=20 Error in predict.C5.0(modelFit, newdata) : \n",
      "  either a tree or rules must be provided\n",
      "\""
     ]
    },
    {
     "name": "stdout",
     "output_type": "stream",
     "text": [
      "c50 code called exit with value 1\n"
     ]
    },
    {
     "name": "stderr",
     "output_type": "stream",
     "text": [
      "Warning message:\n",
      "\"predictions failed for Fold05: model=rules, winnow= TRUE, trials=20 Error in predict.C5.0(modelFit, newdata) : \n",
      "  either a tree or rules must be provided\n",
      "\""
     ]
    },
    {
     "name": "stdout",
     "output_type": "stream",
     "text": [
      "c50 code called exit with value 1\n"
     ]
    },
    {
     "name": "stderr",
     "output_type": "stream",
     "text": [
      "Warning message:\n",
      "\"predictions failed for Fold06: model=tree, winnow=FALSE, trials=20 Error in predict.C5.0(modelFit, newdata) : \n",
      "  either a tree or rules must be provided\n",
      "\""
     ]
    },
    {
     "name": "stdout",
     "output_type": "stream",
     "text": [
      "c50 code called exit with value 1\n"
     ]
    },
    {
     "name": "stderr",
     "output_type": "stream",
     "text": [
      "Warning message:\n",
      "\"predictions failed for Fold06: model=tree, winnow= TRUE, trials=20 Error in predict.C5.0(modelFit, newdata) : \n",
      "  either a tree or rules must be provided\n",
      "\""
     ]
    },
    {
     "name": "stdout",
     "output_type": "stream",
     "text": [
      "c50 code called exit with value 1\n"
     ]
    },
    {
     "name": "stderr",
     "output_type": "stream",
     "text": [
      "Warning message:\n",
      "\"predictions failed for Fold06: model=rules, winnow=FALSE, trials=20 Error in predict.C5.0(modelFit, newdata) : \n",
      "  either a tree or rules must be provided\n",
      "\""
     ]
    },
    {
     "name": "stdout",
     "output_type": "stream",
     "text": [
      "c50 code called exit with value 1\n"
     ]
    },
    {
     "name": "stderr",
     "output_type": "stream",
     "text": [
      "Warning message:\n",
      "\"predictions failed for Fold06: model=rules, winnow= TRUE, trials=20 Error in predict.C5.0(modelFit, newdata) : \n",
      "  either a tree or rules must be provided\n",
      "\""
     ]
    },
    {
     "name": "stdout",
     "output_type": "stream",
     "text": [
      "c50 code called exit with value 1\n"
     ]
    },
    {
     "name": "stderr",
     "output_type": "stream",
     "text": [
      "Warning message:\n",
      "\"predictions failed for Fold07: model=tree, winnow=FALSE, trials=20 Error in predict.C5.0(modelFit, newdata) : \n",
      "  either a tree or rules must be provided\n",
      "\""
     ]
    },
    {
     "name": "stdout",
     "output_type": "stream",
     "text": [
      "c50 code called exit with value 1\n"
     ]
    },
    {
     "name": "stderr",
     "output_type": "stream",
     "text": [
      "Warning message:\n",
      "\"predictions failed for Fold07: model=tree, winnow= TRUE, trials=20 Error in predict.C5.0(modelFit, newdata) : \n",
      "  either a tree or rules must be provided\n",
      "\""
     ]
    },
    {
     "name": "stdout",
     "output_type": "stream",
     "text": [
      "c50 code called exit with value 1\n"
     ]
    },
    {
     "name": "stderr",
     "output_type": "stream",
     "text": [
      "Warning message:\n",
      "\"predictions failed for Fold07: model=rules, winnow=FALSE, trials=20 Error in predict.C5.0(modelFit, newdata) : \n",
      "  either a tree or rules must be provided\n",
      "\""
     ]
    },
    {
     "name": "stdout",
     "output_type": "stream",
     "text": [
      "c50 code called exit with value 1\n"
     ]
    },
    {
     "name": "stderr",
     "output_type": "stream",
     "text": [
      "Warning message:\n",
      "\"predictions failed for Fold07: model=rules, winnow= TRUE, trials=20 Error in predict.C5.0(modelFit, newdata) : \n",
      "  either a tree or rules must be provided\n",
      "\""
     ]
    },
    {
     "name": "stdout",
     "output_type": "stream",
     "text": [
      "c50 code called exit with value 1\n"
     ]
    },
    {
     "name": "stderr",
     "output_type": "stream",
     "text": [
      "Warning message:\n",
      "\"predictions failed for Fold08: model=tree, winnow=FALSE, trials=20 Error in predict.C5.0(modelFit, newdata) : \n",
      "  either a tree or rules must be provided\n",
      "\""
     ]
    },
    {
     "name": "stdout",
     "output_type": "stream",
     "text": [
      "c50 code called exit with value 1\n"
     ]
    },
    {
     "name": "stderr",
     "output_type": "stream",
     "text": [
      "Warning message:\n",
      "\"predictions failed for Fold08: model=tree, winnow= TRUE, trials=20 Error in predict.C5.0(modelFit, newdata) : \n",
      "  either a tree or rules must be provided\n",
      "\""
     ]
    },
    {
     "name": "stdout",
     "output_type": "stream",
     "text": [
      "c50 code called exit with value 1\n"
     ]
    },
    {
     "name": "stderr",
     "output_type": "stream",
     "text": [
      "Warning message:\n",
      "\"predictions failed for Fold08: model=rules, winnow=FALSE, trials=20 Error in predict.C5.0(modelFit, newdata) : \n",
      "  either a tree or rules must be provided\n",
      "\""
     ]
    },
    {
     "name": "stdout",
     "output_type": "stream",
     "text": [
      "c50 code called exit with value 1\n"
     ]
    },
    {
     "name": "stderr",
     "output_type": "stream",
     "text": [
      "Warning message:\n",
      "\"predictions failed for Fold08: model=rules, winnow= TRUE, trials=20 Error in predict.C5.0(modelFit, newdata) : \n",
      "  either a tree or rules must be provided\n",
      "\""
     ]
    },
    {
     "name": "stdout",
     "output_type": "stream",
     "text": [
      "c50 code called exit with value 1\n"
     ]
    },
    {
     "name": "stderr",
     "output_type": "stream",
     "text": [
      "Warning message:\n",
      "\"predictions failed for Fold09: model=tree, winnow=FALSE, trials=20 Error in predict.C5.0(modelFit, newdata) : \n",
      "  either a tree or rules must be provided\n",
      "\""
     ]
    },
    {
     "name": "stdout",
     "output_type": "stream",
     "text": [
      "c50 code called exit with value 1\n"
     ]
    },
    {
     "name": "stderr",
     "output_type": "stream",
     "text": [
      "Warning message:\n",
      "\"predictions failed for Fold09: model=tree, winnow= TRUE, trials=20 Error in predict.C5.0(modelFit, newdata) : \n",
      "  either a tree or rules must be provided\n",
      "\""
     ]
    },
    {
     "name": "stdout",
     "output_type": "stream",
     "text": [
      "c50 code called exit with value 1\n"
     ]
    },
    {
     "name": "stderr",
     "output_type": "stream",
     "text": [
      "Warning message:\n",
      "\"predictions failed for Fold09: model=rules, winnow=FALSE, trials=20 Error in predict.C5.0(modelFit, newdata) : \n",
      "  either a tree or rules must be provided\n",
      "\""
     ]
    },
    {
     "name": "stdout",
     "output_type": "stream",
     "text": [
      "c50 code called exit with value 1\n"
     ]
    },
    {
     "name": "stderr",
     "output_type": "stream",
     "text": [
      "Warning message:\n",
      "\"predictions failed for Fold09: model=rules, winnow= TRUE, trials=20 Error in predict.C5.0(modelFit, newdata) : \n",
      "  either a tree or rules must be provided\n",
      "\""
     ]
    },
    {
     "name": "stdout",
     "output_type": "stream",
     "text": [
      "c50 code called exit with value 1\n"
     ]
    },
    {
     "name": "stderr",
     "output_type": "stream",
     "text": [
      "Warning message:\n",
      "\"predictions failed for Fold10: model=tree, winnow=FALSE, trials=20 Error in predict.C5.0(modelFit, newdata) : \n",
      "  either a tree or rules must be provided\n",
      "\""
     ]
    },
    {
     "name": "stdout",
     "output_type": "stream",
     "text": [
      "c50 code called exit with value 1\n"
     ]
    },
    {
     "name": "stderr",
     "output_type": "stream",
     "text": [
      "Warning message:\n",
      "\"predictions failed for Fold10: model=tree, winnow= TRUE, trials=20 Error in predict.C5.0(modelFit, newdata) : \n",
      "  either a tree or rules must be provided\n",
      "\""
     ]
    },
    {
     "name": "stdout",
     "output_type": "stream",
     "text": [
      "c50 code called exit with value 1\n"
     ]
    },
    {
     "name": "stderr",
     "output_type": "stream",
     "text": [
      "Warning message:\n",
      "\"predictions failed for Fold10: model=rules, winnow=FALSE, trials=20 Error in predict.C5.0(modelFit, newdata) : \n",
      "  either a tree or rules must be provided\n",
      "\""
     ]
    },
    {
     "name": "stdout",
     "output_type": "stream",
     "text": [
      "c50 code called exit with value 1\n"
     ]
    },
    {
     "name": "stderr",
     "output_type": "stream",
     "text": [
      "Warning message:\n",
      "\"predictions failed for Fold10: model=rules, winnow= TRUE, trials=20 Error in predict.C5.0(modelFit, newdata) : \n",
      "  either a tree or rules must be provided\n",
      "\"Warning message in nominalTrainWorkflow(x = x, y = y, wts = weights, info = trainInfo, :\n",
      "\"There were missing values in resampled performance measures.\""
     ]
    },
    {
     "name": "stdout",
     "output_type": "stream",
     "text": [
      "Something is wrong; all the Accuracy metric values are missing:\n",
      "    Accuracy       Kappa    \n",
      " Min.   : NA   Min.   : NA  \n",
      " 1st Qu.: NA   1st Qu.: NA  \n",
      " Median : NA   Median : NA  \n",
      " Mean   :NaN   Mean   :NaN  \n",
      " 3rd Qu.: NA   3rd Qu.: NA  \n",
      " Max.   : NA   Max.   : NA  \n",
      " NA's   :12    NA's   :12   \n"
     ]
    },
    {
     "ename": "ERROR",
     "evalue": "Error: Stopping\n",
     "output_type": "error",
     "traceback": [
      "Error: Stopping\nTraceback:\n",
      "1. train(class ~ ., data = training, method = \"C5.0\", trControl = fitControl, \n .     verbose = FALSE)",
      "2. train.formula(class ~ ., data = training, method = \"C5.0\", trControl = fitControl, \n .     verbose = FALSE)",
      "3. train(x, y, weights = w, ...)",
      "4. train.default(x, y, weights = w, ...)",
      "5. stop(\"Stopping\", call. = FALSE)"
     ]
    }
   ],
   "source": [
    "library(\"caret\")\n",
    "data<-read.csv(\"tic-tac-toe.data.txt\", sheader = FALSE)\n",
    "names(data)=c(\"tls\",\"tms\",\"trs\",\"mls\",\"mms\",\"mrs\",\"bls\",\"bms\",\"brs\",\"class\" )\n",
    "\n",
    "\n",
    "#summary(data)\n",
    "datanan = data[is.na(data)];\n",
    "datanan\n",
    "\n",
    "set.seed(101)\n",
    "trainIndex <- createDataPartition(data$class, p = .7, list = FALSE, times = 1)\n",
    "training <- data[ trainIndex,]\n",
    "testing <- data[-trainIndex,]\n",
    "\n",
    "fitControl<- trainControl(method=\"cv\", number=10)#, savePredictions = TRUE)\n",
    "#nbFit1 <- train(class ~ ., data = training, method = \"naive_bayes\", trControl = fitControl, verbose = FALSE)\n",
    "#treeFit1 <- train(class ~ ., data = training, method = \"C5.0\", trControl = fitControl, verbose = FALSE, control = C5.0Control(seed = 101))\n",
    "library(\"C50\")\n",
    "decisionTree <- train(\n",
    "    class ~ ., data = training, method = \"C5.0\",\n",
    "    trControl = fitControl, verbose = FALSE\n",
    ")\n",
    "#treeFit1\n",
    "#metric = \"ROC\", \n",
    "#levels(data$brs)\n",
    "#head(data)\n",
    "#model<- train(resp~., data=mydat, trControl=train_control, method=\"rpart\")\n",
    "#naive_bayes naivebayes"
   ]
  },
  {
   "cell_type": "code",
   "execution_count": 8,
   "metadata": {},
   "outputs": [
    {
     "data": {
      "text/plain": [
       " top-left-square top-middle-square top-right-square middle-left-square\n",
       " b:205           b:250             b:205            b:250             \n",
       " o:335           o:330             o:335            o:330             \n",
       " x:418           x:378             x:418            x:378             \n",
       " middle-middle-square middle-right-square bottom-left-square\n",
       " b:160                b:250               b:205             \n",
       " o:340                o:330               o:335             \n",
       " x:458                x:378               x:418             \n",
       " bottom-middle-square bottom-right-square      Class    \n",
       " b:250                b:205               negative:332  \n",
       " o:330                o:335               positive:626  \n",
       " x:378                x:418                             "
      ]
     },
     "metadata": {},
     "output_type": "display_data"
    },
    {
     "data": {
      "text/html": [
       "<table>\n",
       "<thead><tr><th scope=col>Resample1</th></tr></thead>\n",
       "<tbody>\n",
       "\t<tr><td>1</td></tr>\n",
       "\t<tr><td>2</td></tr>\n",
       "\t<tr><td>5</td></tr>\n",
       "\t<tr><td>6</td></tr>\n",
       "\t<tr><td>7</td></tr>\n",
       "\t<tr><td>9</td></tr>\n",
       "</tbody>\n",
       "</table>\n"
      ],
      "text/latex": [
       "\\begin{tabular}{l}\n",
       " Resample1\\\\\n",
       "\\hline\n",
       "\t 1\\\\\n",
       "\t 2\\\\\n",
       "\t 5\\\\\n",
       "\t 6\\\\\n",
       "\t 7\\\\\n",
       "\t 9\\\\\n",
       "\\end{tabular}\n"
      ],
      "text/markdown": [
       "\n",
       "Resample1 | \n",
       "|---|---|---|---|---|---|\n",
       "| 1 | \n",
       "| 2 | \n",
       "| 5 | \n",
       "| 6 | \n",
       "| 7 | \n",
       "| 9 | \n",
       "\n",
       "\n"
      ],
      "text/plain": [
       "     Resample1\n",
       "[1,] 1        \n",
       "[2,] 2        \n",
       "[3,] 5        \n",
       "[4,] 6        \n",
       "[5,] 7        \n",
       "[6,] 9        "
      ]
     },
     "metadata": {},
     "output_type": "display_data"
    },
    {
     "data": {
      "text/plain": [
       "\n",
       "Call:\n",
       "summary.resamples(object = res)\n",
       "\n",
       "Models: nn, knn \n",
       "Number of resamples: 10 \n",
       "\n",
       "Accuracy \n",
       "         Min.  1st Qu.    Median      Mean   3rd Qu.      Max. NA's\n",
       "nn  0.6268657 0.672849 0.6865672 0.6934153 0.7268437 0.7462687    0\n",
       "knn 0.9850746 1.000000 1.0000000 0.9985075 1.0000000 1.0000000    0\n",
       "\n",
       "Kappa \n",
       "         Min.   1st Qu.    Median      Mean   3rd Qu.      Max. NA's\n",
       "nn  0.1809291 0.2825089 0.2928536 0.3117905 0.3810545 0.4416058    0\n",
       "knn 0.9665502 1.0000000 1.0000000 0.9966550 1.0000000 1.0000000    0\n"
      ]
     },
     "metadata": {},
     "output_type": "display_data"
    }
   ],
   "source": [
    "# Exercises\n",
    "# ---------\n",
    "# 1. Load the data into R and name the columns to better identify the board\n",
    "# (following an ordering from left to right and from top to bottom). Check for\n",
    "# missing values.\n",
    "# ---------\n",
    "ticTac  <-  read.csv(\"tic-tac-toe.data.txt\", sep=',', header = FALSE) # Load dataset\n",
    "\n",
    "names(ticTac)<-c('top-left-square', 'top-middle-square', 'top-right-square', 'middle-left-square',\n",
    "    'middle-middle-square', 'middle-right-square', 'bottom-left-square',\n",
    "    'bottom-middle-square', 'bottom-right-square', 'Class')\n",
    "\n",
    "summary(ticTac)\n",
    "\n",
    "# ---------\n",
    "# 2. Read the \"data splitting\" section on the caret web paget. Then split the\n",
    "# data into 70% training and 30% test by keeping the original class proportion.\n",
    "# ---------\n",
    "library(\"caret\")\n",
    "set.seed(101)\n",
    "trainIndex <- createDataPartition(\n",
    "    ticTac$Class,\n",
    "    p = .7,\n",
    "    list = FALSE,\n",
    "    times = 1\n",
    "    )\n",
    "head(trainIndex)\n",
    "train   <-  ticTac[trainIndex,]\n",
    "test    <-  ticTac[-trainIndex,]\n",
    "\n",
    "# ---------\n",
    "# 3. Read \"the model training and parameter tuning\" section on the caret web\n",
    "# page to know how to train a model using cross validation. Read also the list\n",
    "# of models available at the \"Sortable Model List\" link in order to know the\n",
    "# name of the method that implements each technique we are going to apply as\n",
    "# well as the package you must install to use it. Remember to use the same seed\n",
    "# for training the models in order to make a fair comparison of their\n",
    "# performances. Do not modify the tuning parameters chosen by default for the\n",
    "# train function.\n",
    "#The values of the measures used for selecting the best model (by default, the\n",
    "# accuracy and/or the kappa measures are used for classification models) are\n",
    "# printed by typing the name of the model in the console. An alternative way of\n",
    "# collecting the resampling results is to use the resamples function. Complete\n",
    "# the following table with the final values of accuracy and kappa used for the\n",
    "# models:\n",
    "#                       |   Accuracy    |   Kappa   |\n",
    "# ---------------------------------------------------\n",
    "# Naive Bayes           |               |           |\n",
    "# ---------------------------------------------------\n",
    "# Decision Tree         |               |           |\n",
    "# ---------------------------------------------------\n",
    "# Neural Network        |               |           |\n",
    "# ---------------------------------------------------\n",
    "# Nearest Neighbor      |               |           |\n",
    "# ---------------------------------------------------\n",
    "# SVM (linear kernel)   |               |           |\n",
    "# ---------------------------------------------------\n",
    "# ---------\n",
    "\n",
    "library(\"naivebayes\")\n",
    "    # cv => cross validation\n",
    "fitControl <- trainControl( method = \"cv\", number = 10)\n",
    "\n",
    "naiveBayes <- train(\n",
    "    Class ~ ., data = train, method = \"naive_bayes\",\n",
    "    trControl = fitControl, verbose = FALSE\n",
    ")\n",
    "# usekernel Accuracy    Kappa\n",
    "# -------------------------------\n",
    "# FALSE     0.6934911   0.3100306\n",
    "# TRUE      0.6846443   0.1138394\n",
    "\n",
    "library(\"C50\")\n",
    "#decisionTree <- train(Class ~ ., data = train, method = \"C5.0\",trControl = fitControl, verbose = FALSE)\n",
    "# model  winnow  trials  Accuracy   Kappa    \n",
    "# rules  FALSE    1      0.9494293  0.8877976\n",
    "# rules  FALSE   10      0.9806409  0.9568003\n",
    "# rules  FALSE   20      0.9881255  0.9732627\n",
    "# rules   TRUE    1      0.9494513  0.8869405\n",
    "# rules   TRUE   10      0.9866330  0.9701267\n",
    "# rules   TRUE   20      0.9881255  0.9732627\n",
    "# tree   FALSE    1      0.9300702  0.8437223\n",
    "# tree   FALSE   10      0.9746708  0.9438127\n",
    "# tree   FALSE   20      0.9866111  0.9700901\n",
    "# tree    TRUE    1      0.9300922  0.8435867\n",
    "# tree    TRUE   10      0.9762291  0.9468206\n",
    "# tree    TRUE   20      0.9791923  0.9533461\n",
    "\n",
    "library(\"nnet\")\n",
    "#neuralNetwork <- train(Class ~ ., data = train, method = \"nnet\",trControl = fitControl, verbose = FALSE)\n",
    "# size  decay  Accuracy   Kappa    \n",
    "# 1     0e+00  0.9468174  0.8598422\n",
    "# 1     1e-04  0.9522827  0.9009902\n",
    "# 1     1e-01  0.9836260  0.9629666\n",
    "# 3     0e+00  0.9717515  0.9369705\n",
    "# 3     1e-04  0.9627744  0.9182128\n",
    "# 3     1e-01  0.9821335  0.9597501\n",
    "# 5     0e+00  0.9643108  0.9222556\n",
    "# 5     1e-04  0.9746708  0.9440721\n",
    "# 5     1e-01  0.9836260  0.9631660\n",
    "\n",
    "\n",
    "library(\"snn\")\n",
    "nearestNeighbor <- train(Class ~ ., data = train, method = \"snn\",trControl = fitControl, verbose = FALSE)\n",
    "# lambda    Accuracy   Kappa    \n",
    "# 0.00000  1.0000000  1.0000000\n",
    "# 0.03125  1.0000000  1.0000000\n",
    "# 32.00000  0.6979148  0.1611106\n",
    "\n",
    "\n",
    "library(\"kernlab\")\n",
    "#svm <- train(Class ~ ., data = train, method = \"svmLinear\",trControl = fitControl, verbose = FALSE)\n",
    "\n",
    "\n",
    "# Accuracy   Kappa    \n",
    "# 0.9835794  0.9628574\n",
    "\n",
    "# ---------\n",
    "# 4.Read the \"model performance\" section on the caret web page.\n",
    "# Apply the models to the test dataset.\n",
    "# Print the confusion matrix of each model and observe the information it\n",
    "# provides.\n",
    "# Construct a table (similar to the previous one) with the accuracy and the\n",
    "# kappa values obtained by each one (to do this you can also use the\n",
    "# postResample function). Add the AUC value to the table . It can be calculated\n",
    "# using the AUC package (https://cran.r-project.org/web/packages/AUC/AUC.pdf).\n",
    "# ---------\n",
    "\n",
    "# Variables que contienen resultados de entrenar los modelos\n",
    "# naiveBayes\n",
    "# decisionTree\n",
    "# neuralNetwork\n",
    "# nearestNeighbor\n",
    "# svm\n",
    "\n",
    "# Instrucción que tenemos que seguir para imprimir los modelos\n",
    "# bh_pred <- predict(lm_fit, bh_te)\n",
    "# postResample(pred = bh_pred, obs = bh_te$medv)\n",
    "\n",
    "\n",
    "res<-resamples(list(nn = naiveBayes,knn = nearestNeighbor))\n",
    "\n",
    "summary(res)\n",
    "\n",
    "# ---------\n",
    "# 5. Plot the ROC curves of the models. We are going to use the ROCR package:\n",
    "#   a. First, we calculate again the predictions on the test set but now setting\n",
    "#   the type parameter of the predict function to \"prob\".\n",
    "#   b. We construct a \"prediction\" object for each classifier using the vector\n",
    "#   of estimated probabilities for the positive class as the first parameter,\n",
    "#   and the vector of actual class labels as the second parameter.\n",
    "#   c. We calculate the measures we want to plot on the y-axis (TPR) and on the\n",
    "#   x-axis (FPR) by using the performance function.\n",
    "#   d. Draw all the curves in the same plot.\n",
    "#   e. Which models should you keep and which models should you discard?\n",
    "# ---------"
   ]
  },
  {
   "cell_type": "code",
   "execution_count": 2,
   "metadata": {},
   "outputs": [
    {
     "data": {
      "text/plain": [
       " top-left-square top-middle-square top-right-square middle-left-square\n",
       " b:205           b:250             b:205            b:250             \n",
       " o:335           o:330             o:335            o:330             \n",
       " x:418           x:378             x:418            x:378             \n",
       " middle-middle-square middle-right-square bottom-left-square\n",
       " b:160                b:250               b:205             \n",
       " o:340                o:330               o:335             \n",
       " x:458                x:378               x:418             \n",
       " bottom-middle-square bottom-right-square      Class    \n",
       " b:250                b:205               negative:332  \n",
       " o:330                o:335               positive:626  \n",
       " x:378                x:418                             "
      ]
     },
     "metadata": {},
     "output_type": "display_data"
    },
    {
     "data": {
      "text/html": [
       "<table>\n",
       "<thead><tr><th scope=col>Resample1</th></tr></thead>\n",
       "<tbody>\n",
       "\t<tr><td>1</td></tr>\n",
       "\t<tr><td>2</td></tr>\n",
       "\t<tr><td>5</td></tr>\n",
       "\t<tr><td>6</td></tr>\n",
       "\t<tr><td>7</td></tr>\n",
       "\t<tr><td>9</td></tr>\n",
       "</tbody>\n",
       "</table>\n"
      ],
      "text/latex": [
       "\\begin{tabular}{l}\n",
       " Resample1\\\\\n",
       "\\hline\n",
       "\t 1\\\\\n",
       "\t 2\\\\\n",
       "\t 5\\\\\n",
       "\t 6\\\\\n",
       "\t 7\\\\\n",
       "\t 9\\\\\n",
       "\\end{tabular}\n"
      ],
      "text/markdown": [
       "\n",
       "Resample1 | \n",
       "|---|---|---|---|---|---|\n",
       "| 1 | \n",
       "| 2 | \n",
       "| 5 | \n",
       "| 6 | \n",
       "| 7 | \n",
       "| 9 | \n",
       "\n",
       "\n"
      ],
      "text/plain": [
       "     Resample1\n",
       "[1,] 1        \n",
       "[2,] 2        \n",
       "[3,] 5        \n",
       "[4,] 6        \n",
       "[5,] 7        \n",
       "[6,] 9        "
      ]
     },
     "metadata": {},
     "output_type": "display_data"
    },
    {
     "name": "stdout",
     "output_type": "stream",
     "text": [
      "c50 code called exit with value 1\n"
     ]
    },
    {
     "name": "stderr",
     "output_type": "stream",
     "text": [
      "Warning message:\n",
      "\"predictions failed for Fold01: parameter=none Error in predict.C5.0(modelFit, newdata) : \n",
      "  either a tree or rules must be provided\n",
      "\""
     ]
    },
    {
     "name": "stdout",
     "output_type": "stream",
     "text": [
      "c50 code called exit with value 1\n"
     ]
    },
    {
     "name": "stderr",
     "output_type": "stream",
     "text": [
      "Warning message:\n",
      "\"predictions failed for Fold02: parameter=none Error in predict.C5.0(modelFit, newdata) : \n",
      "  either a tree or rules must be provided\n",
      "\""
     ]
    },
    {
     "name": "stdout",
     "output_type": "stream",
     "text": [
      "c50 code called exit with value 1\n"
     ]
    },
    {
     "name": "stderr",
     "output_type": "stream",
     "text": [
      "Warning message:\n",
      "\"predictions failed for Fold03: parameter=none Error in predict.C5.0(modelFit, newdata) : \n",
      "  either a tree or rules must be provided\n",
      "\""
     ]
    },
    {
     "name": "stdout",
     "output_type": "stream",
     "text": [
      "c50 code called exit with value 1\n"
     ]
    },
    {
     "name": "stderr",
     "output_type": "stream",
     "text": [
      "Warning message:\n",
      "\"predictions failed for Fold04: parameter=none Error in predict.C5.0(modelFit, newdata) : \n",
      "  either a tree or rules must be provided\n",
      "\""
     ]
    },
    {
     "name": "stdout",
     "output_type": "stream",
     "text": [
      "c50 code called exit with value 1\n"
     ]
    },
    {
     "name": "stderr",
     "output_type": "stream",
     "text": [
      "Warning message:\n",
      "\"predictions failed for Fold05: parameter=none Error in predict.C5.0(modelFit, newdata) : \n",
      "  either a tree or rules must be provided\n",
      "\""
     ]
    },
    {
     "name": "stdout",
     "output_type": "stream",
     "text": [
      "c50 code called exit with value 1\n"
     ]
    },
    {
     "name": "stderr",
     "output_type": "stream",
     "text": [
      "Warning message:\n",
      "\"predictions failed for Fold06: parameter=none Error in predict.C5.0(modelFit, newdata) : \n",
      "  either a tree or rules must be provided\n",
      "\""
     ]
    },
    {
     "name": "stdout",
     "output_type": "stream",
     "text": [
      "c50 code called exit with value 1\n"
     ]
    },
    {
     "name": "stderr",
     "output_type": "stream",
     "text": [
      "Warning message:\n",
      "\"predictions failed for Fold07: parameter=none Error in predict.C5.0(modelFit, newdata) : \n",
      "  either a tree or rules must be provided\n",
      "\""
     ]
    },
    {
     "name": "stdout",
     "output_type": "stream",
     "text": [
      "c50 code called exit with value 1\n"
     ]
    },
    {
     "name": "stderr",
     "output_type": "stream",
     "text": [
      "Warning message:\n",
      "\"predictions failed for Fold08: parameter=none Error in predict.C5.0(modelFit, newdata) : \n",
      "  either a tree or rules must be provided\n",
      "\""
     ]
    },
    {
     "name": "stdout",
     "output_type": "stream",
     "text": [
      "c50 code called exit with value 1\n"
     ]
    },
    {
     "name": "stderr",
     "output_type": "stream",
     "text": [
      "Warning message:\n",
      "\"predictions failed for Fold09: parameter=none Error in predict.C5.0(modelFit, newdata) : \n",
      "  either a tree or rules must be provided\n",
      "\""
     ]
    },
    {
     "name": "stdout",
     "output_type": "stream",
     "text": [
      "c50 code called exit with value 1\n"
     ]
    },
    {
     "name": "stderr",
     "output_type": "stream",
     "text": [
      "Warning message:\n",
      "\"predictions failed for Fold10: parameter=none Error in predict.C5.0(modelFit, newdata) : \n",
      "  either a tree or rules must be provided\n",
      "\"Warning message in nominalTrainWorkflow(x = x, y = y, wts = weights, info = trainInfo, :\n",
      "\"There were missing values in resampled performance measures.\""
     ]
    },
    {
     "name": "stdout",
     "output_type": "stream",
     "text": [
      "Something is wrong; all the Accuracy metric values are missing:\n",
      "    Accuracy       Kappa    \n",
      " Min.   : NA   Min.   : NA  \n",
      " 1st Qu.: NA   1st Qu.: NA  \n",
      " Median : NA   Median : NA  \n",
      " Mean   :NaN   Mean   :NaN  \n",
      " 3rd Qu.: NA   3rd Qu.: NA  \n",
      " Max.   : NA   Max.   : NA  \n",
      " NA's   :1     NA's   :1    \n"
     ]
    },
    {
     "ename": "ERROR",
     "evalue": "Error: Stopping\n",
     "output_type": "error",
     "traceback": [
      "Error: Stopping\nTraceback:\n",
      "1. train(Class ~ ., data = train, method = \"C5.0Tree\", trControl = fitControl, \n .     verbose = FALSE)",
      "2. train.formula(Class ~ ., data = train, method = \"C5.0Tree\", trControl = fitControl, \n .     verbose = FALSE)",
      "3. train(x, y, weights = w, ...)",
      "4. train.default(x, y, weights = w, ...)",
      "5. stop(\"Stopping\", call. = FALSE)"
     ]
    }
   ],
   "source": [
    "ticTac  <-  read.csv(\"tic-tac-toe.data.txt\", sep=',', header = FALSE) # Load dataset\n",
    "\n",
    "names(ticTac)<-c('top-left-square', 'top-middle-square', 'top-right-square', 'middle-left-square',\n",
    "    'middle-middle-square', 'middle-right-square', 'bottom-left-square',\n",
    "    'bottom-middle-square', 'bottom-right-square', 'Class')\n",
    "\n",
    "summary(ticTac)\n",
    "\n",
    "# ---------\n",
    "# 2. Read the \"data splitting\" section on the caret web paget. Then split the\n",
    "# data into 70% training and 30% test by keeping the original class proportion.\n",
    "# ---------\n",
    "library(\"caret\")\n",
    "set.seed(101)\n",
    "fitControl <- trainControl( method = \"cv\", number = 10)\n",
    "trainIndex <- createDataPartition(\n",
    "    ticTac$Class,\n",
    "    p = .7,\n",
    "    list = FALSE,\n",
    "    times = 1\n",
    "    )\n",
    "\n",
    "train   <-  ticTac[trainIndex,]\n",
    "test    <-  ticTac[-trainIndex,]\n",
    "\n",
    "library(\"C50\")\n",
    "decisionTree <- train(\n",
    "    Class ~ ., data = train, method = \"C5.0Tree\",\n",
    "    trControl = fitControl, verbose = FALSE\n",
    ")"
   ]
  }
 ],
 "metadata": {
  "kernelspec": {
   "display_name": "R",
   "language": "R",
   "name": "ir"
  }
 },
 "nbformat": 4,
 "nbformat_minor": 1
}
