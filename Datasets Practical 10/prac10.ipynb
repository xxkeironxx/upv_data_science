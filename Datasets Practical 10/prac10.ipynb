{
 "cells": [
  {
   "cell_type": "code",
   "execution_count": 1,
   "metadata": {},
   "outputs": [
    {
     "name": "stdout",
     "output_type": "stream",
     "text": [
      "('crit1', 0.14814814814814814)\n",
      "('crit1', 0.2222222222222222)\n",
      "('crit2.1', 0.39605901719066977)\n",
      "('crit2.2', 0.9912407071619299)\n"
     ]
    },
    {
     "data": {
      "text/plain": [
       "[(0.4, 'You, Me and Dupree'),\n",
       " (0.2857142857142857, 'The Night Listener'),\n",
       " (0.2222222222222222, 'Snakes on a Plane'),\n",
       " (0.2222222222222222, 'Just My Luck'),\n",
       " (0.09090909090909091, 'Superman Returns')]"
      ]
     },
     "execution_count": 1,
     "metadata": {},
     "output_type": "execute_result"
    }
   ],
   "source": [
    "from recommendations import *\n",
    "critics['Lisa Rose']['Lady in the Water']\n",
    "critics['Lisa Rose']\n",
    "\n",
    "print(\"crit1\",sim_distance(critics,'Lisa Rose','Gene Seymour'))\n",
    "print(\"crit1\",sim_distance(critics,'Lisa Rose','Toby'))\n",
    "\n",
    "print(\"crit2.1\",sim_pearson(critics,'Lisa Rose','Gene Seymour'))\n",
    "print(\"crit2.2\",sim_pearson(critics,'Lisa Rose','Toby'))\n",
    "\n",
    "topMatches(critics,n=3,person=\"Toby\")\n",
    "\n",
    "getRecommendations(critics,person=\"Toby\")#\n",
    "getRecommendations(critics,\"Toby\", sim_distance)\n",
    "#same order\n",
    "\n",
    "#tcritics=transformPrefs(critics)\n",
    "cls=calculateSimilarItems(critics,n=10)\n",
    "calculateSimilarItems(critics,n=10)[\"Lady in the Water\"]\n",
    "\n",
    "getRecommendedItems(critics,cls,'Toby')\n",
    "#otro de topMatches(critics,n=3,person=\"Toby\")"
   ]
  },
  {
   "cell_type": "code",
   "execution_count": 73,
   "metadata": {},
   "outputs": [
    {
     "name": "stdout",
     "output_type": "stream",
     "text": [
      "100 / 1664\n",
      "200 / 1664\n",
      "300 / 1664\n",
      "400 / 1664\n",
      "500 / 1664\n",
      "600 / 1664\n",
      "700 / 1664\n",
      "800 / 1664\n",
      "900 / 1664\n",
      "1000 / 1664\n",
      "1100 / 1664\n",
      "1200 / 1664\n",
      "1300 / 1664\n",
      "1400 / 1664\n",
      "1500 / 1664\n",
      "1600 / 1664\n"
     ]
    },
    {
     "data": {
      "text/plain": [
       "[(5.0, \"What's Eating Gilbert Grape (1993)\"),\n",
       " (5.0, 'Vertigo (1958)'),\n",
       " (5.0, 'Usual Suspects, The (1995)'),\n",
       " (5.0, 'Toy Story (1995)'),\n",
       " (5.0, 'Titanic (1997)'),\n",
       " (5.0, 'Sword in the Stone, The (1963)'),\n",
       " (5.0, 'Stand by Me (1986)'),\n",
       " (5.0, 'Sling Blade (1996)'),\n",
       " (5.0, 'Silence of the Lambs, The (1991)'),\n",
       " (5.0, 'Shining, The (1980)'),\n",
       " (5.0, 'Shine (1996)'),\n",
       " (5.0, 'Sense and Sensibility (1995)'),\n",
       " (5.0, 'Scream (1996)'),\n",
       " (5.0, 'Rumble in the Bronx (1995)'),\n",
       " (5.0, 'Rock, The (1996)'),\n",
       " (5.0, 'Robin Hood: Prince of Thieves (1991)'),\n",
       " (5.0, 'Reservoir Dogs (1992)'),\n",
       " (5.0, 'Police Story 4: Project S (Chao ji ji hua) (1993)'),\n",
       " (5.0, 'House of the Spirits, The (1993)'),\n",
       " (5.0, 'Fresh (1994)'),\n",
       " (5.0, 'Denise Calls Up (1995)'),\n",
       " (5.0, 'Day the Sun Turned Cold, The (Tianguo niezi) (1994)'),\n",
       " (5.0, 'Before the Rain (Pred dozhdot) (1994)'),\n",
       " (5.0, 'Assignment, The (1997)'),\n",
       " (5.0, '1-900 (1994)'),\n",
       " (4.875, \"Ed's Next Move (1996)\"),\n",
       " (4.833333333333333, 'Anna (1996)'),\n",
       " (4.8, 'Dark City (1998)'),\n",
       " (4.75, 'Flower of My Secret, The (Flor de mi secreto, La) (1995)'),\n",
       " (4.75, 'Broken English (1996)')]"
      ]
     },
     "execution_count": 73,
     "metadata": {},
     "output_type": "execute_result"
    }
   ],
   "source": [
    "from recommendations import *\n",
    "data=loadMovieLens()\n",
    "\n",
    "gr=getRecommendations(data,'87')\n",
    "tm=topMatches(data,n=30,person=\"87\")\n",
    "cls1=calculateSimilarItems(data,n=50)\n",
    "gri=getRecommendedItems(data,cls1,'87')\n",
    "gri[0:30]"
   ]
  },
  {
   "cell_type": "raw",
   "metadata": {},
   "source": [
    "from recommendations import *\n",
    "data=loadMovieLens()\n",
    "\n",
    "getRecommendations(data,'87')"
   ]
  }
 ],
 "metadata": {
  "kernelspec": {
   "display_name": "Python 2",
   "language": "python",
   "name": "python2"
  },
  "language_info": {
   "codemirror_mode": {
    "name": "ipython",
    "version": 2
   },
   "file_extension": ".py",
   "mimetype": "text/x-python",
   "name": "python",
   "nbconvert_exporter": "python",
   "pygments_lexer": "ipython2",
   "version": "2.7.14"
  }
 },
 "nbformat": 4,
 "nbformat_minor": 2
}
